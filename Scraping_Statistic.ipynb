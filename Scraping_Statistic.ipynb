{
  "nbformat": 4,
  "nbformat_minor": 0,
  "metadata": {
    "colab": {
      "provenance": [],
      "authorship_tag": "ABX9TyMkbbIHa0024/J7LpZ44fln"
    },
    "kernelspec": {
      "name": "python3",
      "display_name": "Python 3"
    },
    "language_info": {
      "name": "python"
    }
  },
  "cells": [
    {
      "cell_type": "code",
      "execution_count": null,
      "metadata": {
        "id": "dYXu-6mLQ50J"
      },
      "outputs": [],
      "source": [
        "import requests  # Importing the requests library to make HTTP requests\n",
        "from bs4 import BeautifulSoup as bs  # Importing BeautifulSoup to parse HTML documents\n",
        "import pandas as pd  # Importing Pandas library to manipulate data\n",
        "from statistics import mean  # Importing mean function from statistics module\n",
        "import numpy as np\n",
        "import matplotlib.pyplot as plt"
      ]
    },
    {
      "cell_type": "code",
      "source": [
        "apartment_info_palermo_df = pd.read_csv('Palermo_data2.csv') "
      ],
      "metadata": {
        "id": "zPSAcCDFRoIe"
      },
      "execution_count": null,
      "outputs": []
    },
    {
      "cell_type": "code",
      "source": [
        "apartment_info_palermo_df.price = pd.to_numeric(apartment_info_palermo_df.price, errors='coerce')\n",
        "\n",
        "df = apartment_info_palermo_df.sort_values(by=['price'])\n",
        "df"
      ],
      "metadata": {
        "colab": {
          "base_uri": "https://localhost:8080/",
          "height": 424
        },
        "id": "eD4BhkI8L6CA",
        "outputId": "78d23d99-4e08-4e3e-ec93-07622a94e2d0"
      },
      "execution_count": null,
      "outputs": [
        {
          "output_type": "execute_result",
          "data": {
            "text/plain": [
              "                              location   latitude  longitude       bedrooms  \\\n",
              "21                       humboldt 2400 -34.578686 -58.428530  Monoambiente    \n",
              "147               beruti 4500, palermo -34.584328 -58.413730              1   \n",
              "130                        guemes 4500 -34.688847 -58.380344  Monoambiente    \n",
              "67                         thames 1800 -34.586490 -58.428930  Monoambiente    \n",
              "186        estado de palestina al 1100 -34.596250 -58.424430              1   \n",
              "..                                 ...        ...        ...            ...   \n",
              "151          juan maria gutierrez 3900 -34.580154 -58.415840              2   \n",
              "39               malabia 2400, piso 18 -34.584675 -58.417645              3   \n",
              "71   av scalabrini ortiz 3000, piso 27 -34.581642 -58.411003              4   \n",
              "191                    malabia al 2200 -34.586800 -58.420660              3   \n",
              "2                           soler 3900 -34.592180 -58.417007              3   \n",
              "\n",
              "     bathrooms  antiquity  expenses     price currency  covered_area  \\\n",
              "21         1.0       13.0   22000.0     300.0      USD          33.0   \n",
              "147        1.0       10.0   30000.0     420.0      USD          39.0   \n",
              "130        NaN        NaN       NaN     500.0      USD          30.0   \n",
              "67         NaN       30.0   10000.0     500.0      USD          44.0   \n",
              "186        1.0        NaN       NaN     500.0      USD          30.0   \n",
              "..         ...        ...       ...       ...      ...           ...   \n",
              "151        1.0       45.0   34500.0  360000.0        $          95.0   \n",
              "39         3.0       30.0   65000.0  380000.0        $         115.0   \n",
              "71         3.0        NaN   96000.0  599000.0        $         180.0   \n",
              "191        4.0        NaN       NaN  600000.0        $         135.0   \n",
              "2          1.0       43.0   35000.0       NaN      NaN          68.0   \n",
              "\n",
              "     uncovered_area                                                url  \n",
              "21              NaN  https://www.argenprop.com/departamento-en-alqu...  \n",
              "147             6.0  https://www.argenprop.com/departamento-en-alqu...  \n",
              "130             NaN  https://www.argenprop.com/departamento-en-alqu...  \n",
              "67              NaN  https://www.argenprop.com/departamento-en-alqu...  \n",
              "186             NaN  https://www.argenprop.com/departamento-en-alqu...  \n",
              "..              ...                                                ...  \n",
              "151             NaN  https://www.argenprop.com/departamento-en-alqu...  \n",
              "39             11.0  https://www.argenprop.com/departamento-en-alqu...  \n",
              "71              NaN  https://www.argenprop.com/departamento-en-alqu...  \n",
              "191             NaN  https://www.argenprop.com/departamento-en-alqu...  \n",
              "2               NaN  https://www.argenprop.com/departamento-en-alqu...  \n",
              "\n",
              "[200 rows x 12 columns]"
            ],
            "text/html": [
              "\n",
              "  <div id=\"df-fb40b2bd-6974-44fd-a8ef-5582df26e228\">\n",
              "    <div class=\"colab-df-container\">\n",
              "      <div>\n",
              "<style scoped>\n",
              "    .dataframe tbody tr th:only-of-type {\n",
              "        vertical-align: middle;\n",
              "    }\n",
              "\n",
              "    .dataframe tbody tr th {\n",
              "        vertical-align: top;\n",
              "    }\n",
              "\n",
              "    .dataframe thead th {\n",
              "        text-align: right;\n",
              "    }\n",
              "</style>\n",
              "<table border=\"1\" class=\"dataframe\">\n",
              "  <thead>\n",
              "    <tr style=\"text-align: right;\">\n",
              "      <th></th>\n",
              "      <th>location</th>\n",
              "      <th>latitude</th>\n",
              "      <th>longitude</th>\n",
              "      <th>bedrooms</th>\n",
              "      <th>bathrooms</th>\n",
              "      <th>antiquity</th>\n",
              "      <th>expenses</th>\n",
              "      <th>price</th>\n",
              "      <th>currency</th>\n",
              "      <th>covered_area</th>\n",
              "      <th>uncovered_area</th>\n",
              "      <th>url</th>\n",
              "    </tr>\n",
              "  </thead>\n",
              "  <tbody>\n",
              "    <tr>\n",
              "      <th>21</th>\n",
              "      <td>humboldt 2400</td>\n",
              "      <td>-34.578686</td>\n",
              "      <td>-58.428530</td>\n",
              "      <td>Monoambiente</td>\n",
              "      <td>1.0</td>\n",
              "      <td>13.0</td>\n",
              "      <td>22000.0</td>\n",
              "      <td>300.0</td>\n",
              "      <td>USD</td>\n",
              "      <td>33.0</td>\n",
              "      <td>NaN</td>\n",
              "      <td>https://www.argenprop.com/departamento-en-alqu...</td>\n",
              "    </tr>\n",
              "    <tr>\n",
              "      <th>147</th>\n",
              "      <td>beruti 4500, palermo</td>\n",
              "      <td>-34.584328</td>\n",
              "      <td>-58.413730</td>\n",
              "      <td>1</td>\n",
              "      <td>1.0</td>\n",
              "      <td>10.0</td>\n",
              "      <td>30000.0</td>\n",
              "      <td>420.0</td>\n",
              "      <td>USD</td>\n",
              "      <td>39.0</td>\n",
              "      <td>6.0</td>\n",
              "      <td>https://www.argenprop.com/departamento-en-alqu...</td>\n",
              "    </tr>\n",
              "    <tr>\n",
              "      <th>130</th>\n",
              "      <td>guemes 4500</td>\n",
              "      <td>-34.688847</td>\n",
              "      <td>-58.380344</td>\n",
              "      <td>Monoambiente</td>\n",
              "      <td>NaN</td>\n",
              "      <td>NaN</td>\n",
              "      <td>NaN</td>\n",
              "      <td>500.0</td>\n",
              "      <td>USD</td>\n",
              "      <td>30.0</td>\n",
              "      <td>NaN</td>\n",
              "      <td>https://www.argenprop.com/departamento-en-alqu...</td>\n",
              "    </tr>\n",
              "    <tr>\n",
              "      <th>67</th>\n",
              "      <td>thames 1800</td>\n",
              "      <td>-34.586490</td>\n",
              "      <td>-58.428930</td>\n",
              "      <td>Monoambiente</td>\n",
              "      <td>NaN</td>\n",
              "      <td>30.0</td>\n",
              "      <td>10000.0</td>\n",
              "      <td>500.0</td>\n",
              "      <td>USD</td>\n",
              "      <td>44.0</td>\n",
              "      <td>NaN</td>\n",
              "      <td>https://www.argenprop.com/departamento-en-alqu...</td>\n",
              "    </tr>\n",
              "    <tr>\n",
              "      <th>186</th>\n",
              "      <td>estado de palestina al 1100</td>\n",
              "      <td>-34.596250</td>\n",
              "      <td>-58.424430</td>\n",
              "      <td>1</td>\n",
              "      <td>1.0</td>\n",
              "      <td>NaN</td>\n",
              "      <td>NaN</td>\n",
              "      <td>500.0</td>\n",
              "      <td>USD</td>\n",
              "      <td>30.0</td>\n",
              "      <td>NaN</td>\n",
              "      <td>https://www.argenprop.com/departamento-en-alqu...</td>\n",
              "    </tr>\n",
              "    <tr>\n",
              "      <th>...</th>\n",
              "      <td>...</td>\n",
              "      <td>...</td>\n",
              "      <td>...</td>\n",
              "      <td>...</td>\n",
              "      <td>...</td>\n",
              "      <td>...</td>\n",
              "      <td>...</td>\n",
              "      <td>...</td>\n",
              "      <td>...</td>\n",
              "      <td>...</td>\n",
              "      <td>...</td>\n",
              "      <td>...</td>\n",
              "    </tr>\n",
              "    <tr>\n",
              "      <th>151</th>\n",
              "      <td>juan maria gutierrez 3900</td>\n",
              "      <td>-34.580154</td>\n",
              "      <td>-58.415840</td>\n",
              "      <td>2</td>\n",
              "      <td>1.0</td>\n",
              "      <td>45.0</td>\n",
              "      <td>34500.0</td>\n",
              "      <td>360000.0</td>\n",
              "      <td>$</td>\n",
              "      <td>95.0</td>\n",
              "      <td>NaN</td>\n",
              "      <td>https://www.argenprop.com/departamento-en-alqu...</td>\n",
              "    </tr>\n",
              "    <tr>\n",
              "      <th>39</th>\n",
              "      <td>malabia 2400, piso 18</td>\n",
              "      <td>-34.584675</td>\n",
              "      <td>-58.417645</td>\n",
              "      <td>3</td>\n",
              "      <td>3.0</td>\n",
              "      <td>30.0</td>\n",
              "      <td>65000.0</td>\n",
              "      <td>380000.0</td>\n",
              "      <td>$</td>\n",
              "      <td>115.0</td>\n",
              "      <td>11.0</td>\n",
              "      <td>https://www.argenprop.com/departamento-en-alqu...</td>\n",
              "    </tr>\n",
              "    <tr>\n",
              "      <th>71</th>\n",
              "      <td>av scalabrini ortiz 3000, piso 27</td>\n",
              "      <td>-34.581642</td>\n",
              "      <td>-58.411003</td>\n",
              "      <td>4</td>\n",
              "      <td>3.0</td>\n",
              "      <td>NaN</td>\n",
              "      <td>96000.0</td>\n",
              "      <td>599000.0</td>\n",
              "      <td>$</td>\n",
              "      <td>180.0</td>\n",
              "      <td>NaN</td>\n",
              "      <td>https://www.argenprop.com/departamento-en-alqu...</td>\n",
              "    </tr>\n",
              "    <tr>\n",
              "      <th>191</th>\n",
              "      <td>malabia al 2200</td>\n",
              "      <td>-34.586800</td>\n",
              "      <td>-58.420660</td>\n",
              "      <td>3</td>\n",
              "      <td>4.0</td>\n",
              "      <td>NaN</td>\n",
              "      <td>NaN</td>\n",
              "      <td>600000.0</td>\n",
              "      <td>$</td>\n",
              "      <td>135.0</td>\n",
              "      <td>NaN</td>\n",
              "      <td>https://www.argenprop.com/departamento-en-alqu...</td>\n",
              "    </tr>\n",
              "    <tr>\n",
              "      <th>2</th>\n",
              "      <td>soler 3900</td>\n",
              "      <td>-34.592180</td>\n",
              "      <td>-58.417007</td>\n",
              "      <td>3</td>\n",
              "      <td>1.0</td>\n",
              "      <td>43.0</td>\n",
              "      <td>35000.0</td>\n",
              "      <td>NaN</td>\n",
              "      <td>NaN</td>\n",
              "      <td>68.0</td>\n",
              "      <td>NaN</td>\n",
              "      <td>https://www.argenprop.com/departamento-en-alqu...</td>\n",
              "    </tr>\n",
              "  </tbody>\n",
              "</table>\n",
              "<p>200 rows × 12 columns</p>\n",
              "</div>\n",
              "      <button class=\"colab-df-convert\" onclick=\"convertToInteractive('df-fb40b2bd-6974-44fd-a8ef-5582df26e228')\"\n",
              "              title=\"Convert this dataframe to an interactive table.\"\n",
              "              style=\"display:none;\">\n",
              "        \n",
              "  <svg xmlns=\"http://www.w3.org/2000/svg\" height=\"24px\"viewBox=\"0 0 24 24\"\n",
              "       width=\"24px\">\n",
              "    <path d=\"M0 0h24v24H0V0z\" fill=\"none\"/>\n",
              "    <path d=\"M18.56 5.44l.94 2.06.94-2.06 2.06-.94-2.06-.94-.94-2.06-.94 2.06-2.06.94zm-11 1L8.5 8.5l.94-2.06 2.06-.94-2.06-.94L8.5 2.5l-.94 2.06-2.06.94zm10 10l.94 2.06.94-2.06 2.06-.94-2.06-.94-.94-2.06-.94 2.06-2.06.94z\"/><path d=\"M17.41 7.96l-1.37-1.37c-.4-.4-.92-.59-1.43-.59-.52 0-1.04.2-1.43.59L10.3 9.45l-7.72 7.72c-.78.78-.78 2.05 0 2.83L4 21.41c.39.39.9.59 1.41.59.51 0 1.02-.2 1.41-.59l7.78-7.78 2.81-2.81c.8-.78.8-2.07 0-2.86zM5.41 20L4 18.59l7.72-7.72 1.47 1.35L5.41 20z\"/>\n",
              "  </svg>\n",
              "      </button>\n",
              "      \n",
              "  <style>\n",
              "    .colab-df-container {\n",
              "      display:flex;\n",
              "      flex-wrap:wrap;\n",
              "      gap: 12px;\n",
              "    }\n",
              "\n",
              "    .colab-df-convert {\n",
              "      background-color: #E8F0FE;\n",
              "      border: none;\n",
              "      border-radius: 50%;\n",
              "      cursor: pointer;\n",
              "      display: none;\n",
              "      fill: #1967D2;\n",
              "      height: 32px;\n",
              "      padding: 0 0 0 0;\n",
              "      width: 32px;\n",
              "    }\n",
              "\n",
              "    .colab-df-convert:hover {\n",
              "      background-color: #E2EBFA;\n",
              "      box-shadow: 0px 1px 2px rgba(60, 64, 67, 0.3), 0px 1px 3px 1px rgba(60, 64, 67, 0.15);\n",
              "      fill: #174EA6;\n",
              "    }\n",
              "\n",
              "    [theme=dark] .colab-df-convert {\n",
              "      background-color: #3B4455;\n",
              "      fill: #D2E3FC;\n",
              "    }\n",
              "\n",
              "    [theme=dark] .colab-df-convert:hover {\n",
              "      background-color: #434B5C;\n",
              "      box-shadow: 0px 1px 3px 1px rgba(0, 0, 0, 0.15);\n",
              "      filter: drop-shadow(0px 1px 2px rgba(0, 0, 0, 0.3));\n",
              "      fill: #FFFFFF;\n",
              "    }\n",
              "  </style>\n",
              "\n",
              "      <script>\n",
              "        const buttonEl =\n",
              "          document.querySelector('#df-fb40b2bd-6974-44fd-a8ef-5582df26e228 button.colab-df-convert');\n",
              "        buttonEl.style.display =\n",
              "          google.colab.kernel.accessAllowed ? 'block' : 'none';\n",
              "\n",
              "        async function convertToInteractive(key) {\n",
              "          const element = document.querySelector('#df-fb40b2bd-6974-44fd-a8ef-5582df26e228');\n",
              "          const dataTable =\n",
              "            await google.colab.kernel.invokeFunction('convertToInteractive',\n",
              "                                                     [key], {});\n",
              "          if (!dataTable) return;\n",
              "\n",
              "          const docLinkHtml = 'Like what you see? Visit the ' +\n",
              "            '<a target=\"_blank\" href=https://colab.research.google.com/notebooks/data_table.ipynb>data table notebook</a>'\n",
              "            + ' to learn more about interactive tables.';\n",
              "          element.innerHTML = '';\n",
              "          dataTable['output_type'] = 'display_data';\n",
              "          await google.colab.output.renderOutput(dataTable, element);\n",
              "          const docLink = document.createElement('div');\n",
              "          docLink.innerHTML = docLinkHtml;\n",
              "          element.appendChild(docLink);\n",
              "        }\n",
              "      </script>\n",
              "    </div>\n",
              "  </div>\n",
              "  "
            ]
          },
          "metadata": {},
          "execution_count": 41
        }
      ]
    },
    {
      "cell_type": "markdown",
      "source": [
        "Number of apartments in Dollar and ARS"
      ],
      "metadata": {
        "id": "0FYRKZL_Upfx"
      }
    },
    {
      "cell_type": "code",
      "source": [
        "print('Deptos en alquiler en Palermo')\n",
        "dato = apartment_info_palermo_df['currency'].value_counts()\n",
        "for i in range(2):\n",
        "  print(dato.index[i], round(dato.values[i]/len(apartment_info_palermo_df)*100), '%')"
      ],
      "metadata": {
        "colab": {
          "base_uri": "https://localhost:8080/"
        },
        "id": "dHIhPg5VveDg",
        "outputId": "10594f7f-4851-4afd-cf66-e5d20adc7c89"
      },
      "execution_count": null,
      "outputs": [
        {
          "output_type": "stream",
          "name": "stdout",
          "text": [
            "Deptos en alquiler en Palermo\n",
            "USD 71 %\n",
            "$ 28 %\n"
          ]
        }
      ]
    },
    {
      "cell_type": "markdown",
      "source": [
        "##USD/ARS\n"
      ],
      "metadata": {
        "id": "5q2t0MndSf2z"
      }
    },
    {
      "cell_type": "code",
      "source": [
        "url = 'https://dolarhoy.com/'  # The URL of the webpage to scrape\n",
        "search = requests.get(url, verify=True, headers={\"User-Agent\": 'Mozilla/5.0'})  # Making a GET request to the URL\n",
        "print(f'Status Code: {search.status_code}')  # Printing the status code of the request\n",
        "search_parseada = bs(search.content, 'html.parser')  # Parsing the HTML content of the response using BeautifulSoup"
      ],
      "metadata": {
        "colab": {
          "base_uri": "https://localhost:8080/"
        },
        "id": "AItciz1SxKmF",
        "outputId": "929c5398-354b-4b2f-cae5-9320e0a066e4"
      },
      "execution_count": null,
      "outputs": [
        {
          "output_type": "stream",
          "name": "stdout",
          "text": [
            "Status Code: 200\n"
          ]
        }
      ]
    },
    {
      "cell_type": "code",
      "source": [
        "nombres = search_parseada.find_all(name='a', attrs={'class': 'title'})[1:]  # Finding all names\n",
        "\n",
        "dolares = search_parseada.find_all(name='div', attrs={'class': 'val'})[2:]  # Finding all values\n",
        "\n",
        "dolar_fecha = search_parseada.find(name='div', attrs={'class': 'tile update'}).text  # Finding the update time"
      ],
      "metadata": {
        "id": "WQpPWfknrF09"
      },
      "execution_count": null,
      "outputs": []
    },
    {
      "cell_type": "code",
      "source": [
        "titulos = []\n",
        "\n",
        "for i in range(2*len(nombres)-1):\n",
        "  titulos.append(nombres[int(i/2)].contents[0])"
      ],
      "metadata": {
        "id": "4ypzXuFjrI2t"
      },
      "execution_count": null,
      "outputs": []
    },
    {
      "cell_type": "code",
      "source": [
        "for i in range(len(dolares)):\n",
        "  if i % 2 == 0:\n",
        "    print(titulos[i], '\\nCompra:', dolares[i].contents[0])\n",
        "  else:\n",
        "    print('Venta:', dolares[i].contents[0], '\\n')\n",
        "print('')\n",
        "print(dolar_fecha)"
      ],
      "metadata": {
        "colab": {
          "base_uri": "https://localhost:8080/"
        },
        "id": "pfoT-_kzrAhb",
        "outputId": "6fe58343-d559-4514-d750-cf04da559a39"
      },
      "execution_count": null,
      "outputs": [
        {
          "output_type": "stream",
          "name": "stdout",
          "text": [
            "Dólar blue \n",
            "Compra: $427.00\n",
            "Venta: $432.00 \n",
            "\n",
            "Dólar oficial promedio \n",
            "Compra: $217.37\n",
            "Venta: $224.88 \n",
            "\n",
            "Dólar Bolsa \n",
            "Compra: $419.72\n",
            "Venta: $421.43 \n",
            "\n",
            "Contado con liqui \n",
            "Compra: $429.79\n",
            "Venta: $437.34 \n",
            "\n",
            "Dólar cripto \n",
            "Compra: $422.00\n",
            "Venta: $429.00 \n",
            "\n",
            "Dólar Solidario \n",
            "Compra: $370.42\n",
            "\n",
            "Actualizado el 21/04/23 02:27 AM\n"
          ]
        }
      ]
    },
    {
      "cell_type": "code",
      "source": [
        "dolar_promedio = mean([float(dolares[0].contents[0][1:]), float(dolares[1].contents[0][1:])])\n",
        "print(f'Blue Promedio: ${dolar_promedio}')\n",
        "print(type(dolar_promedio)) "
      ],
      "metadata": {
        "colab": {
          "base_uri": "https://localhost:8080/"
        },
        "id": "sNymFRUFsveS",
        "outputId": "6df1320c-ce50-448f-ccb1-6f25f236e3b3"
      },
      "execution_count": null,
      "outputs": [
        {
          "output_type": "stream",
          "name": "stdout",
          "text": [
            "Blue Promedio: $429.5\n",
            "<class 'float'>\n"
          ]
        }
      ]
    },
    {
      "cell_type": "markdown",
      "source": [
        "##USD to ARS\n"
      ],
      "metadata": {
        "id": "RD7YK9w3yAR8"
      }
    },
    {
      "cell_type": "code",
      "source": [
        "dolar_promedio"
      ],
      "metadata": {
        "colab": {
          "base_uri": "https://localhost:8080/"
        },
        "id": "uncToiapSpOq",
        "outputId": "905ab662-cc19-4f76-d09d-46d15e485403"
      },
      "execution_count": null,
      "outputs": [
        {
          "output_type": "execute_result",
          "data": {
            "text/plain": [
              "429.5"
            ]
          },
          "metadata": {},
          "execution_count": 34
        }
      ]
    },
    {
      "cell_type": "code",
      "source": [
        "df['price'] = np.where(df.currency == 'USD', df.price*dolar_promedio, df.price)\n",
        "df['currency'] = '$'"
      ],
      "metadata": {
        "id": "0UTvKSxK0k8o"
      },
      "execution_count": null,
      "outputs": []
    },
    {
      "cell_type": "code",
      "source": [
        "price_pesos = np.sort(df.price.values)[:-15]\n",
        "plt.rcParams[\"figure.figsize\"] = (15,5)\n",
        "plt.hist(price_pesos, bins=50 , facecolor='blue', edgecolor='black', linewidth=0.4)\n",
        "plt.xlabel('Precio en millones de Pesos')\n",
        "plt.xticks(np.linspace(min(price_pesos), max(price_pesos), 10))\n",
        "plt.ylabel('Cantidad de Deptos')\n",
        "plt.title('Precio en Pesos de Deptos en Palermo')"
      ],
      "metadata": {
        "colab": {
          "base_uri": "https://localhost:8080/",
          "height": 504
        },
        "id": "cq2T2P8a6cX1",
        "outputId": "9c66cecb-379d-4e19-b77f-d54a58c7cfa2"
      },
      "execution_count": null,
      "outputs": [
        {
          "output_type": "execute_result",
          "data": {
            "text/plain": [
              "Text(0.5, 1.0, 'Precio en Pesos de Deptos en Palermo')"
            ]
          },
          "metadata": {},
          "execution_count": 44
        },
        {
          "output_type": "display_data",
          "data": {
            "text/plain": [
              "<Figure size 1500x500 with 1 Axes>"
            ],
            "image/png": "[encoded data removed]"
          },
          "metadata": {}
        }
      ]
    },
    {
      "cell_type": "markdown",
      "source": [
        "#Price per $m^2$ (covered area)"
      ],
      "metadata": {
        "id": "Ex_Apd9XS8X1"
      }
    },
    {
      "cell_type": "code",
      "source": [
        "df['price_m2'] = df.price / df.covered_area"
      ],
      "metadata": {
        "id": "0ZJY55jAS-gs"
      },
      "execution_count": null,
      "outputs": []
    },
    {
      "cell_type": "code",
      "source": [
        "df.sort_values(by=['price_m2'])"
      ],
      "metadata": {
        "colab": {
          "base_uri": "https://localhost:8080/",
          "height": 424
        },
        "id": "0Jql7s5eTM3H",
        "outputId": "63673ff7-a8a4-4391-aaad-913e412d4721"
      },
      "execution_count": null,
      "outputs": [
        {
          "output_type": "execute_result",
          "data": {
            "text/plain": [
              "                                              location   latitude  longitude  \\\n",
              "146                                      uriarte  2400 -34.582428 -58.424942   \n",
              "109                             bulnes  1600, piso 5to -34.592910 -58.416283   \n",
              "194                                       cabrera 2900 -34.597020 -58.407410   \n",
              "172                           gral guemes 3700, piso 5 -34.587650 -58.415382   \n",
              "74                                  av. las heras 3700 -34.581814 -58.411400   \n",
              "..                                                 ...        ...        ...   \n",
              "101                          concepcion arenal al 2300 -34.573980 -58.436960   \n",
              "116                                         guise 1900 -34.589870 -58.412240   \n",
              "136  alquiler departamento 1 dormitorio palermo con... -34.577045 -58.422913   \n",
              "174                                  nicaragua al 4300 -34.590195 -58.422830   \n",
              "2                                           soler 3900 -34.592180 -58.417007   \n",
              "\n",
              "          bedrooms  bathrooms  antiquity  expenses     price currency  \\\n",
              "146              3        3.0        NaN       NaN  200000.0        $   \n",
              "109              1        1.0        NaN   17974.0   83000.0        $   \n",
              "194  Monoambiente         1.0       40.0   11500.0   80000.0        $   \n",
              "172              1        1.0       40.0   22000.0   85000.0        $   \n",
              "74               2        2.0       70.0   50000.0  199000.0        $   \n",
              "..             ...        ...        ...       ...       ...      ...   \n",
              "101              2        1.0       30.0   14000.0  150000.0        $   \n",
              "116              1        1.0       36.0       NaN  185000.0        $   \n",
              "136              1        1.0       10.0   22000.0  225000.0        $   \n",
              "174              2        1.0       60.0       NaN  250000.0        $   \n",
              "2                3        1.0       43.0   35000.0       NaN        $   \n",
              "\n",
              "     covered_area  uncovered_area  \\\n",
              "146         115.0            34.0   \n",
              "109          36.0             NaN   \n",
              "194          33.0             NaN   \n",
              "172          35.0             NaN   \n",
              "74           80.0             NaN   \n",
              "..            ...             ...   \n",
              "101           NaN             6.0   \n",
              "116           NaN             NaN   \n",
              "136           NaN             NaN   \n",
              "174           NaN             NaN   \n",
              "2            68.0             NaN   \n",
              "\n",
              "                                                   url     price_m2  \n",
              "146  https://www.argenprop.com/departamento-en-alqu...  1739.130435  \n",
              "109  https://www.argenprop.com/departamento-en-alqu...  2305.555556  \n",
              "194  https://www.argenprop.com/departamento-en-alqu...  2424.242424  \n",
              "172  https://www.argenprop.com/departamento-en-alqu...  2428.571429  \n",
              "74   https://www.argenprop.com/departamento-en-alqu...  2487.500000  \n",
              "..                                                 ...          ...  \n",
              "101  https://www.argenprop.com/departamento-en-alqu...          NaN  \n",
              "116  https://www.argenprop.com/departamento-en-alqu...          NaN  \n",
              "136  https://www.argenprop.com/departamento-en-alqu...          NaN  \n",
              "174  https://www.argenprop.com/departamento-en-alqu...          NaN  \n",
              "2    https://www.argenprop.com/departamento-en-alqu...          NaN  \n",
              "\n",
              "[200 rows x 13 columns]"
            ],
            "text/html": [
              "\n",
              "  <div id=\"df-c0d40ada-2cd2-49f9-b6b8-f18a8ed8bb12\">\n",
              "    <div class=\"colab-df-container\">\n",
              "      <div>\n",
              "<style scoped>\n",
              "    .dataframe tbody tr th:only-of-type {\n",
              "        vertical-align: middle;\n",
              "    }\n",
              "\n",
              "    .dataframe tbody tr th {\n",
              "        vertical-align: top;\n",
              "    }\n",
              "\n",
              "    .dataframe thead th {\n",
              "        text-align: right;\n",
              "    }\n",
              "</style>\n",
              "<table border=\"1\" class=\"dataframe\">\n",
              "  <thead>\n",
              "    <tr style=\"text-align: right;\">\n",
              "      <th></th>\n",
              "      <th>location</th>\n",
              "      <th>latitude</th>\n",
              "      <th>longitude</th>\n",
              "      <th>bedrooms</th>\n",
              "      <th>bathrooms</th>\n",
              "      <th>antiquity</th>\n",
              "      <th>expenses</th>\n",
              "      <th>price</th>\n",
              "      <th>currency</th>\n",
              "      <th>covered_area</th>\n",
              "      <th>uncovered_area</th>\n",
              "      <th>url</th>\n",
              "      <th>price_m2</th>\n",
              "    </tr>\n",
              "  </thead>\n",
              "  <tbody>\n",
              "    <tr>\n",
              "      <th>146</th>\n",
              "      <td>uriarte  2400</td>\n",
              "      <td>-34.582428</td>\n",
              "      <td>-58.424942</td>\n",
              "      <td>3</td>\n",
              "      <td>3.0</td>\n",
              "      <td>NaN</td>\n",
              "      <td>NaN</td>\n",
              "      <td>200000.0</td>\n",
              "      <td>$</td>\n",
              "      <td>115.0</td>\n",
              "      <td>34.0</td>\n",
              "      <td>https://www.argenprop.com/departamento-en-alqu...</td>\n",
              "      <td>1739.130435</td>\n",
              "    </tr>\n",
              "    <tr>\n",
              "      <th>109</th>\n",
              "      <td>bulnes  1600, piso 5to</td>\n",
              "      <td>-34.592910</td>\n",
              "      <td>-58.416283</td>\n",
              "      <td>1</td>\n",
              "      <td>1.0</td>\n",
              "      <td>NaN</td>\n",
              "      <td>17974.0</td>\n",
              "      <td>83000.0</td>\n",
              "      <td>$</td>\n",
              "      <td>36.0</td>\n",
              "      <td>NaN</td>\n",
              "      <td>https://www.argenprop.com/departamento-en-alqu...</td>\n",
              "      <td>2305.555556</td>\n",
              "    </tr>\n",
              "    <tr>\n",
              "      <th>194</th>\n",
              "      <td>cabrera 2900</td>\n",
              "      <td>-34.597020</td>\n",
              "      <td>-58.407410</td>\n",
              "      <td>Monoambiente</td>\n",
              "      <td>1.0</td>\n",
              "      <td>40.0</td>\n",
              "      <td>11500.0</td>\n",
              "      <td>80000.0</td>\n",
              "      <td>$</td>\n",
              "      <td>33.0</td>\n",
              "      <td>NaN</td>\n",
              "      <td>https://www.argenprop.com/departamento-en-alqu...</td>\n",
              "      <td>2424.242424</td>\n",
              "    </tr>\n",
              "    <tr>\n",
              "      <th>172</th>\n",
              "      <td>gral guemes 3700, piso 5</td>\n",
              "      <td>-34.587650</td>\n",
              "      <td>-58.415382</td>\n",
              "      <td>1</td>\n",
              "      <td>1.0</td>\n",
              "      <td>40.0</td>\n",
              "      <td>22000.0</td>\n",
              "      <td>85000.0</td>\n",
              "      <td>$</td>\n",
              "      <td>35.0</td>\n",
              "      <td>NaN</td>\n",
              "      <td>https://www.argenprop.com/departamento-en-alqu...</td>\n",
              "      <td>2428.571429</td>\n",
              "    </tr>\n",
              "    <tr>\n",
              "      <th>74</th>\n",
              "      <td>av. las heras 3700</td>\n",
              "      <td>-34.581814</td>\n",
              "      <td>-58.411400</td>\n",
              "      <td>2</td>\n",
              "      <td>2.0</td>\n",
              "      <td>70.0</td>\n",
              "      <td>50000.0</td>\n",
              "      <td>199000.0</td>\n",
              "      <td>$</td>\n",
              "      <td>80.0</td>\n",
              "      <td>NaN</td>\n",
              "      <td>https://www.argenprop.com/departamento-en-alqu...</td>\n",
              "      <td>2487.500000</td>\n",
              "    </tr>\n",
              "    <tr>\n",
              "      <th>...</th>\n",
              "      <td>...</td>\n",
              "      <td>...</td>\n",
              "      <td>...</td>\n",
              "      <td>...</td>\n",
              "      <td>...</td>\n",
              "      <td>...</td>\n",
              "      <td>...</td>\n",
              "      <td>...</td>\n",
              "      <td>...</td>\n",
              "      <td>...</td>\n",
              "      <td>...</td>\n",
              "      <td>...</td>\n",
              "      <td>...</td>\n",
              "    </tr>\n",
              "    <tr>\n",
              "      <th>101</th>\n",
              "      <td>concepcion arenal al 2300</td>\n",
              "      <td>-34.573980</td>\n",
              "      <td>-58.436960</td>\n",
              "      <td>2</td>\n",
              "      <td>1.0</td>\n",
              "      <td>30.0</td>\n",
              "      <td>14000.0</td>\n",
              "      <td>150000.0</td>\n",
              "      <td>$</td>\n",
              "      <td>NaN</td>\n",
              "      <td>6.0</td>\n",
              "      <td>https://www.argenprop.com/departamento-en-alqu...</td>\n",
              "      <td>NaN</td>\n",
              "    </tr>\n",
              "    <tr>\n",
              "      <th>116</th>\n",
              "      <td>guise 1900</td>\n",
              "      <td>-34.589870</td>\n",
              "      <td>-58.412240</td>\n",
              "      <td>1</td>\n",
              "      <td>1.0</td>\n",
              "      <td>36.0</td>\n",
              "      <td>NaN</td>\n",
              "      <td>185000.0</td>\n",
              "      <td>$</td>\n",
              "      <td>NaN</td>\n",
              "      <td>NaN</td>\n",
              "      <td>https://www.argenprop.com/departamento-en-alqu...</td>\n",
              "      <td>NaN</td>\n",
              "    </tr>\n",
              "    <tr>\n",
              "      <th>136</th>\n",
              "      <td>alquiler departamento 1 dormitorio palermo con...</td>\n",
              "      <td>-34.577045</td>\n",
              "      <td>-58.422913</td>\n",
              "      <td>1</td>\n",
              "      <td>1.0</td>\n",
              "      <td>10.0</td>\n",
              "      <td>22000.0</td>\n",
              "      <td>225000.0</td>\n",
              "      <td>$</td>\n",
              "      <td>NaN</td>\n",
              "      <td>NaN</td>\n",
              "      <td>https://www.argenprop.com/departamento-en-alqu...</td>\n",
              "      <td>NaN</td>\n",
              "    </tr>\n",
              "    <tr>\n",
              "      <th>174</th>\n",
              "      <td>nicaragua al 4300</td>\n",
              "      <td>-34.590195</td>\n",
              "      <td>-58.422830</td>\n",
              "      <td>2</td>\n",
              "      <td>1.0</td>\n",
              "      <td>60.0</td>\n",
              "      <td>NaN</td>\n",
              "      <td>250000.0</td>\n",
              "      <td>$</td>\n",
              "      <td>NaN</td>\n",
              "      <td>NaN</td>\n",
              "      <td>https://www.argenprop.com/departamento-en-alqu...</td>\n",
              "      <td>NaN</td>\n",
              "    </tr>\n",
              "    <tr>\n",
              "      <th>2</th>\n",
              "      <td>soler 3900</td>\n",
              "      <td>-34.592180</td>\n",
              "      <td>-58.417007</td>\n",
              "      <td>3</td>\n",
              "      <td>1.0</td>\n",
              "      <td>43.0</td>\n",
              "      <td>35000.0</td>\n",
              "      <td>NaN</td>\n",
              "      <td>$</td>\n",
              "      <td>68.0</td>\n",
              "      <td>NaN</td>\n",
              "      <td>https://www.argenprop.com/departamento-en-alqu...</td>\n",
              "      <td>NaN</td>\n",
              "    </tr>\n",
              "  </tbody>\n",
              "</table>\n",
              "<p>200 rows × 13 columns</p>\n",
              "</div>\n",
              "      <button class=\"colab-df-convert\" onclick=\"convertToInteractive('df-c0d40ada-2cd2-49f9-b6b8-f18a8ed8bb12')\"\n",
              "              title=\"Convert this dataframe to an interactive table.\"\n",
              "              style=\"display:none;\">\n",
              "        \n",
              "  <svg xmlns=\"http://www.w3.org/2000/svg\" height=\"24px\"viewBox=\"0 0 24 24\"\n",
              "       width=\"24px\">\n",
              "    <path d=\"M0 0h24v24H0V0z\" fill=\"none\"/>\n",
              "    <path d=\"M18.56 5.44l.94 2.06.94-2.06 2.06-.94-2.06-.94-.94-2.06-.94 2.06-2.06.94zm-11 1L8.5 8.5l.94-2.06 2.06-.94-2.06-.94L8.5 2.5l-.94 2.06-2.06.94zm10 10l.94 2.06.94-2.06 2.06-.94-2.06-.94-.94-2.06-.94 2.06-2.06.94z\"/><path d=\"M17.41 7.96l-1.37-1.37c-.4-.4-.92-.59-1.43-.59-.52 0-1.04.2-1.43.59L10.3 9.45l-7.72 7.72c-.78.78-.78 2.05 0 2.83L4 21.41c.39.39.9.59 1.41.59.51 0 1.02-.2 1.41-.59l7.78-7.78 2.81-2.81c.8-.78.8-2.07 0-2.86zM5.41 20L4 18.59l7.72-7.72 1.47 1.35L5.41 20z\"/>\n",
              "  </svg>\n",
              "      </button>\n",
              "      \n",
              "  <style>\n",
              "    .colab-df-container {\n",
              "      display:flex;\n",
              "      flex-wrap:wrap;\n",
              "      gap: 12px;\n",
              "    }\n",
              "\n",
              "    .colab-df-convert {\n",
              "      background-color: #E8F0FE;\n",
              "      border: none;\n",
              "      border-radius: 50%;\n",
              "      cursor: pointer;\n",
              "      display: none;\n",
              "      fill: #1967D2;\n",
              "      height: 32px;\n",
              "      padding: 0 0 0 0;\n",
              "      width: 32px;\n",
              "    }\n",
              "\n",
              "    .colab-df-convert:hover {\n",
              "      background-color: #E2EBFA;\n",
              "      box-shadow: 0px 1px 2px rgba(60, 64, 67, 0.3), 0px 1px 3px 1px rgba(60, 64, 67, 0.15);\n",
              "      fill: #174EA6;\n",
              "    }\n",
              "\n",
              "    [theme=dark] .colab-df-convert {\n",
              "      background-color: #3B4455;\n",
              "      fill: #D2E3FC;\n",
              "    }\n",
              "\n",
              "    [theme=dark] .colab-df-convert:hover {\n",
              "      background-color: #434B5C;\n",
              "      box-shadow: 0px 1px 3px 1px rgba(0, 0, 0, 0.15);\n",
              "      filter: drop-shadow(0px 1px 2px rgba(0, 0, 0, 0.3));\n",
              "      fill: #FFFFFF;\n",
              "    }\n",
              "  </style>\n",
              "\n",
              "      <script>\n",
              "        const buttonEl =\n",
              "          document.querySelector('#df-c0d40ada-2cd2-49f9-b6b8-f18a8ed8bb12 button.colab-df-convert');\n",
              "        buttonEl.style.display =\n",
              "          google.colab.kernel.accessAllowed ? 'block' : 'none';\n",
              "\n",
              "        async function convertToInteractive(key) {\n",
              "          const element = document.querySelector('#df-c0d40ada-2cd2-49f9-b6b8-f18a8ed8bb12');\n",
              "          const dataTable =\n",
              "            await google.colab.kernel.invokeFunction('convertToInteractive',\n",
              "                                                     [key], {});\n",
              "          if (!dataTable) return;\n",
              "\n",
              "          const docLinkHtml = 'Like what you see? Visit the ' +\n",
              "            '<a target=\"_blank\" href=https://colab.research.google.com/notebooks/data_table.ipynb>data table notebook</a>'\n",
              "            + ' to learn more about interactive tables.';\n",
              "          element.innerHTML = '';\n",
              "          dataTable['output_type'] = 'display_data';\n",
              "          await google.colab.output.renderOutput(dataTable, element);\n",
              "          const docLink = document.createElement('div');\n",
              "          docLink.innerHTML = docLinkHtml;\n",
              "          element.appendChild(docLink);\n",
              "        }\n",
              "      </script>\n",
              "    </div>\n",
              "  </div>\n",
              "  "
            ]
          },
          "metadata": {},
          "execution_count": 46
        }
      ]
    },
    {
      "cell_type": "code",
      "source": [
        "price_m2 = np.sort(df.price_m2.values)\n",
        "plt.rcParams[\"figure.figsize\"] = (15,5)\n",
        "plt.hist(price_m2, bins=30 , facecolor='blue', edgecolor='black', linewidth=0.4)\n",
        "plt.xlabel('Precio por m2 (ARS/m2)')\n",
        "plt.xticks(np.linspace(min(price_m2), max(price_m2), 20))\n",
        "plt.ylabel('Cantidad de Deptos')\n",
        "plt.title('Precio por m2 de Deptos en Palermo')"
      ],
      "metadata": {
        "colab": {
          "base_uri": "https://localhost:8080/",
          "height": 504
        },
        "id": "vThAkr8yTOAg",
        "outputId": "ece66e01-5cd0-460e-ccf6-56b298f27688"
      },
      "execution_count": null,
      "outputs": [
        {
          "output_type": "execute_result",
          "data": {
            "text/plain": [
              "Text(0.5, 1.0, 'Precio por m2 de Deptos en Palermo')"
            ]
          },
          "metadata": {},
          "execution_count": 47
        },
        {
          "output_type": "display_data",
          "data": {
            "text/plain": [
              "<Figure size 1500x500 with 1 Axes>"
            ],
            "image/png": "[encoded data removed]"
          },
          "metadata": {}
        }
      ]
    },
    {
      "cell_type": "code",
      "source": [],
      "metadata": {
        "id": "yzeHIhLNTjjO"
      },
      "execution_count": null,
      "outputs": []
    },
    {
      "cell_type": "markdown",
      "source": [
        "#Only in ARS\n"
      ],
      "metadata": {
        "id": "ehbFGF_MWbKd"
      }
    },
    {
      "cell_type": "code",
      "source": [
        "df_solo_pesos = apartment_info_palermo_df[apartment_info_palermo_df['currency']=='$'].reset_index(drop= True)\n",
        "df_solo_pesos"
      ],
      "metadata": {
        "colab": {
          "base_uri": "https://localhost:8080/",
          "height": 206
        },
        "id": "66e-HEZJXVBW",
        "outputId": "16b480ac-260c-4b68-d81c-7b894af5fb54"
      },
      "execution_count": null,
      "outputs": [
        {
          "output_type": "execute_result",
          "data": {
            "text/plain": [
              "                          location   latitude  longitude       bedrooms  \\\n",
              "0             serrano 1300, piso 6 -34.603683 -58.381557              2   \n",
              "1       republica arabe siria 3000 -34.580875 -58.413803              2   \n",
              "2  gral manuel n savio 200, piso 1 -34.574146 -58.434830              2   \n",
              "3       scalabrini ortiz raul 2200 -34.587040 -58.419720              1   \n",
              "4   av alvarez thomas 1100, piso 2 -34.578470 -58.457710  Monoambiente    \n",
              "\n",
              "   bathrooms  antiquity  expenses     price currency  covered_area  \\\n",
              "0        1.0       40.0   22600.0  170000.0        $          57.0   \n",
              "1        1.0       55.0   35000.0  165000.0        $          60.0   \n",
              "2        1.0        NaN   30000.0  140000.0        $          50.0   \n",
              "3        NaN       35.0    8800.0  125000.0        $          34.0   \n",
              "4        1.0        5.0   14000.0  120000.0        $          31.0   \n",
              "\n",
              "   uncovered_area                                                url  \n",
              "0             NaN  https://www.argenprop.com/departamento-en-alqu...  \n",
              "1             NaN  https://www.argenprop.com/departamento-en-alqu...  \n",
              "2             9.6  https://www.argenprop.com/departamento-en-alqu...  \n",
              "3             NaN  https://www.argenprop.com/departamento-en-alqu...  \n",
              "4             4.0  https://www.argenprop.com/departamento-en-alqu...  "
            ],
            "text/html": [
              "\n",
              "  <div id=\"df-581a467f-26f4-4d5e-af94-c9461bc8270e\">\n",
              "    <div class=\"colab-df-container\">\n",
              "      <div>\n",
              "<style scoped>\n",
              "    .dataframe tbody tr th:only-of-type {\n",
              "        vertical-align: middle;\n",
              "    }\n",
              "\n",
              "    .dataframe tbody tr th {\n",
              "        vertical-align: top;\n",
              "    }\n",
              "\n",
              "    .dataframe thead th {\n",
              "        text-align: right;\n",
              "    }\n",
              "</style>\n",
              "<table border=\"1\" class=\"dataframe\">\n",
              "  <thead>\n",
              "    <tr style=\"text-align: right;\">\n",
              "      <th></th>\n",
              "      <th>location</th>\n",
              "      <th>latitude</th>\n",
              "      <th>longitude</th>\n",
              "      <th>bedrooms</th>\n",
              "      <th>bathrooms</th>\n",
              "      <th>antiquity</th>\n",
              "      <th>expenses</th>\n",
              "      <th>price</th>\n",
              "      <th>currency</th>\n",
              "      <th>covered_area</th>\n",
              "      <th>uncovered_area</th>\n",
              "      <th>url</th>\n",
              "    </tr>\n",
              "  </thead>\n",
              "  <tbody>\n",
              "    <tr>\n",
              "      <th>0</th>\n",
              "      <td>serrano 1300, piso 6</td>\n",
              "      <td>-34.603683</td>\n",
              "      <td>-58.381557</td>\n",
              "      <td>2</td>\n",
              "      <td>1.0</td>\n",
              "      <td>40.0</td>\n",
              "      <td>22600.0</td>\n",
              "      <td>170000.0</td>\n",
              "      <td>$</td>\n",
              "      <td>57.0</td>\n",
              "      <td>NaN</td>\n",
              "      <td>https://www.argenprop.com/departamento-en-alqu...</td>\n",
              "    </tr>\n",
              "    <tr>\n",
              "      <th>1</th>\n",
              "      <td>republica arabe siria 3000</td>\n",
              "      <td>-34.580875</td>\n",
              "      <td>-58.413803</td>\n",
              "      <td>2</td>\n",
              "      <td>1.0</td>\n",
              "      <td>55.0</td>\n",
              "      <td>35000.0</td>\n",
              "      <td>165000.0</td>\n",
              "      <td>$</td>\n",
              "      <td>60.0</td>\n",
              "      <td>NaN</td>\n",
              "      <td>https://www.argenprop.com/departamento-en-alqu...</td>\n",
              "    </tr>\n",
              "    <tr>\n",
              "      <th>2</th>\n",
              "      <td>gral manuel n savio 200, piso 1</td>\n",
              "      <td>-34.574146</td>\n",
              "      <td>-58.434830</td>\n",
              "      <td>2</td>\n",
              "      <td>1.0</td>\n",
              "      <td>NaN</td>\n",
              "      <td>30000.0</td>\n",
              "      <td>140000.0</td>\n",
              "      <td>$</td>\n",
              "      <td>50.0</td>\n",
              "      <td>9.6</td>\n",
              "      <td>https://www.argenprop.com/departamento-en-alqu...</td>\n",
              "    </tr>\n",
              "    <tr>\n",
              "      <th>3</th>\n",
              "      <td>scalabrini ortiz raul 2200</td>\n",
              "      <td>-34.587040</td>\n",
              "      <td>-58.419720</td>\n",
              "      <td>1</td>\n",
              "      <td>NaN</td>\n",
              "      <td>35.0</td>\n",
              "      <td>8800.0</td>\n",
              "      <td>125000.0</td>\n",
              "      <td>$</td>\n",
              "      <td>34.0</td>\n",
              "      <td>NaN</td>\n",
              "      <td>https://www.argenprop.com/departamento-en-alqu...</td>\n",
              "    </tr>\n",
              "    <tr>\n",
              "      <th>4</th>\n",
              "      <td>av alvarez thomas 1100, piso 2</td>\n",
              "      <td>-34.578470</td>\n",
              "      <td>-58.457710</td>\n",
              "      <td>Monoambiente</td>\n",
              "      <td>1.0</td>\n",
              "      <td>5.0</td>\n",
              "      <td>14000.0</td>\n",
              "      <td>120000.0</td>\n",
              "      <td>$</td>\n",
              "      <td>31.0</td>\n",
              "      <td>4.0</td>\n",
              "      <td>https://www.argenprop.com/departamento-en-alqu...</td>\n",
              "    </tr>\n",
              "  </tbody>\n",
              "</table>\n",
              "</div>\n",
              "      <button class=\"colab-df-convert\" onclick=\"convertToInteractive('df-581a467f-26f4-4d5e-af94-c9461bc8270e')\"\n",
              "              title=\"Convert this dataframe to an interactive table.\"\n",
              "              style=\"display:none;\">\n",
              "        \n",
              "  <svg xmlns=\"http://www.w3.org/2000/svg\" height=\"24px\"viewBox=\"0 0 24 24\"\n",
              "       width=\"24px\">\n",
              "    <path d=\"M0 0h24v24H0V0z\" fill=\"none\"/>\n",
              "    <path d=\"M18.56 5.44l.94 2.06.94-2.06 2.06-.94-2.06-.94-.94-2.06-.94 2.06-2.06.94zm-11 1L8.5 8.5l.94-2.06 2.06-.94-2.06-.94L8.5 2.5l-.94 2.06-2.06.94zm10 10l.94 2.06.94-2.06 2.06-.94-2.06-.94-.94-2.06-.94 2.06-2.06.94z\"/><path d=\"M17.41 7.96l-1.37-1.37c-.4-.4-.92-.59-1.43-.59-.52 0-1.04.2-1.43.59L10.3 9.45l-7.72 7.72c-.78.78-.78 2.05 0 2.83L4 21.41c.39.39.9.59 1.41.59.51 0 1.02-.2 1.41-.59l7.78-7.78 2.81-2.81c.8-.78.8-2.07 0-2.86zM5.41 20L4 18.59l7.72-7.72 1.47 1.35L5.41 20z\"/>\n",
              "  </svg>\n",
              "      </button>\n",
              "      \n",
              "  <style>\n",
              "    .colab-df-container {\n",
              "      display:flex;\n",
              "      flex-wrap:wrap;\n",
              "      gap: 12px;\n",
              "    }\n",
              "\n",
              "    .colab-df-convert {\n",
              "      background-color: #E8F0FE;\n",
              "      border: none;\n",
              "      border-radius: 50%;\n",
              "      cursor: pointer;\n",
              "      display: none;\n",
              "      fill: #1967D2;\n",
              "      height: 32px;\n",
              "      padding: 0 0 0 0;\n",
              "      width: 32px;\n",
              "    }\n",
              "\n",
              "    .colab-df-convert:hover {\n",
              "      background-color: #E2EBFA;\n",
              "      box-shadow: 0px 1px 2px rgba(60, 64, 67, 0.3), 0px 1px 3px 1px rgba(60, 64, 67, 0.15);\n",
              "      fill: #174EA6;\n",
              "    }\n",
              "\n",
              "    [theme=dark] .colab-df-convert {\n",
              "      background-color: #3B4455;\n",
              "      fill: #D2E3FC;\n",
              "    }\n",
              "\n",
              "    [theme=dark] .colab-df-convert:hover {\n",
              "      background-color: #434B5C;\n",
              "      box-shadow: 0px 1px 3px 1px rgba(0, 0, 0, 0.15);\n",
              "      filter: drop-shadow(0px 1px 2px rgba(0, 0, 0, 0.3));\n",
              "      fill: #FFFFFF;\n",
              "    }\n",
              "  </style>\n",
              "\n",
              "      <script>\n",
              "        const buttonEl =\n",
              "          document.querySelector('#df-581a467f-26f4-4d5e-af94-c9461bc8270e button.colab-df-convert');\n",
              "        buttonEl.style.display =\n",
              "          google.colab.kernel.accessAllowed ? 'block' : 'none';\n",
              "\n",
              "        async function convertToInteractive(key) {\n",
              "          const element = document.querySelector('#df-581a467f-26f4-4d5e-af94-c9461bc8270e');\n",
              "          const dataTable =\n",
              "            await google.colab.kernel.invokeFunction('convertToInteractive',\n",
              "                                                     [key], {});\n",
              "          if (!dataTable) return;\n",
              "\n",
              "          const docLinkHtml = 'Like what you see? Visit the ' +\n",
              "            '<a target=\"_blank\" href=https://colab.research.google.com/notebooks/data_table.ipynb>data table notebook</a>'\n",
              "            + ' to learn more about interactive tables.';\n",
              "          element.innerHTML = '';\n",
              "          dataTable['output_type'] = 'display_data';\n",
              "          await google.colab.output.renderOutput(dataTable, element);\n",
              "          const docLink = document.createElement('div');\n",
              "          docLink.innerHTML = docLinkHtml;\n",
              "          element.appendChild(docLink);\n",
              "        }\n",
              "      </script>\n",
              "    </div>\n",
              "  </div>\n",
              "  "
            ]
          },
          "metadata": {},
          "execution_count": 85
        }
      ]
    },
    {
      "cell_type": "code",
      "source": [
        "df_solo_pesos['price_m2'] = df_solo_pesos.price / df_solo_pesos.covered_area"
      ],
      "metadata": {
        "id": "cMaBnrLbYe9u"
      },
      "execution_count": null,
      "outputs": []
    },
    {
      "cell_type": "code",
      "source": [
        "price_m2 = np.sort(df_solo_pesos.price_m2.values)\n",
        "plt.rcParams[\"figure.figsize\"] = (15,5)\n",
        "plt.hist(price_m2, bins=30 , facecolor='blue', edgecolor='black', linewidth=0.4)\n",
        "plt.xlabel('Precio por m2 (ARS/m2)')\n",
        "plt.xticks(np.linspace(min(price_m2), max(price_m2), 20))\n",
        "plt.ylabel('Cantidad de Deptos')\n",
        "plt.title('Precio por m2 de Deptos en Palermo')"
      ],
      "metadata": {
        "colab": {
          "base_uri": "https://localhost:8080/",
          "height": 504
        },
        "id": "QM3a0bZKY3Xv",
        "outputId": "4b537e95-bcd0-435d-a296-8923f045f96c"
      },
      "execution_count": null,
      "outputs": [
        {
          "output_type": "execute_result",
          "data": {
            "text/plain": [
              "Text(0.5, 1.0, 'Precio por m2 de Deptos en Palermo')"
            ]
          },
          "metadata": {},
          "execution_count": 88
        },
        {
          "output_type": "display_data",
          "data": {
            "text/plain": [
              "<Figure size 1500x500 with 1 Axes>"
            ],
            "image/png": "[encoded data removed]"
          },
          "metadata": {}
        }
      ]
    },
    {
      "cell_type": "code",
      "source": [
        "df_ordenado = df_solo_pesos.sort_values(by=['price_m2']).reset_index(drop= True)"
      ],
      "metadata": {
        "id": "bbnBkBqsY6PX"
      },
      "execution_count": null,
      "outputs": []
    },
    {
      "cell_type": "code",
      "source": [
        "len(df_ordenado)"
      ],
      "metadata": {
        "colab": {
          "base_uri": "https://localhost:8080/"
        },
        "id": "I8mqClmLZR7R",
        "outputId": "f7638779-68aa-48f4-abd3-f88d6c26d86c"
      },
      "execution_count": null,
      "outputs": [
        {
          "output_type": "execute_result",
          "data": {
            "text/plain": [
              "57"
            ]
          },
          "metadata": {},
          "execution_count": 95
        }
      ]
    },
    {
      "cell_type": "code",
      "source": [
        "price_pesos = np.sort(df_solo_pesos.price.values)[:-10]\n",
        "plt.rcParams[\"figure.figsize\"] = (15,5)\n",
        "plt.hist(price_pesos, bins=20 , facecolor='blue', edgecolor='black', linewidth=0.4)\n",
        "plt.xlabel('Precio en Pesos')\n",
        "plt.xticks(np.linspace(min(price_pesos), max(price_pesos), 10))\n",
        "plt.ylabel('Cantidad de Deptos')\n",
        "plt.title('Precio en Pesos de Deptos en Palermo')"
      ],
      "metadata": {
        "colab": {
          "base_uri": "https://localhost:8080/",
          "height": 504
        },
        "id": "6PY2MVeIcehF",
        "outputId": "97ccfd4d-2c0c-4415-eec8-0a425db65c7c"
      },
      "execution_count": null,
      "outputs": [
        {
          "output_type": "execute_result",
          "data": {
            "text/plain": [
              "Text(0.5, 1.0, 'Precio en Pesos de Deptos en Palermo')"
            ]
          },
          "metadata": {},
          "execution_count": 99
        },
        {
          "output_type": "display_data",
          "data": {
            "text/plain": [
              "<Figure size 1500x500 with 1 Axes>"
            ],
            "image/png": "[encoded data removed]"
          },
          "metadata": {}
        }
      ]
    },
    {
      "cell_type": "code",
      "source": [],
      "metadata": {
        "id": "6y5fjz4Dd9sD"
      },
      "execution_count": null,
      "outputs": []
    }
  ]
}