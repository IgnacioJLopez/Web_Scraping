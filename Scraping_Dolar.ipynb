{
  "nbformat": 4,
  "nbformat_minor": 0,
  "metadata": {
    "colab": {
      "provenance": [],
      "authorship_tag": "ABX9TyOkiliekOCM9fJ2ZSthdnAa"
    },
    "kernelspec": {
      "name": "python3",
      "display_name": "Python 3"
    },
    "language_info": {
      "name": "python"
    }
  },
  "cells": [
    {
      "cell_type": "markdown",
      "source": [
        "#**Extracting Real-time Currency Exchange Rates with Python and Beautiful Soup**"
      ],
      "metadata": {
        "id": "ch_ORBbtvyqP"
      }
    },
    {
      "cell_type": "markdown",
      "source": [
        "This Python script uses web scraping techniques to extract real-time currency exchange rates from the Dolar Hoy website. The script makes an HTTP request to the website, parses the HTML content using Beautiful Soup, and extracts the relevant data using a combination of tag names and class attributes. The extracted data is then printed to the console, and the average sell rate of two popular currencies is calculated using the statistics module."
      ],
      "metadata": {
        "id": "Oi6uRRHgzuLF"
      }
    },
    {
      "cell_type": "code",
      "execution_count": 1,
      "metadata": {
        "id": "WmczLpsZU63I"
      },
      "outputs": [],
      "source": [
        "import requests  # Importing the requests library to make HTTP requests\n",
        "from bs4 import BeautifulSoup as bs  # Importing BeautifulSoup to parse HTML documents\n",
        "import pandas as pd  # Importing Pandas library to manipulate data\n",
        "from statistics import mean  # Importing mean function from statistics module"
      ]
    },
    {
      "cell_type": "code",
      "source": [
        "url = 'https://dolarhoy.com/'  # The URL of the webpage to scrape\n",
        "search = requests.get(url, verify=True, headers={\"User-Agent\": 'Mozilla/5.0'})  # Making a GET request to the URL\n",
        "print(f'Status Code: {search.status_code}')  # Printing the status code of the request\n",
        "search_parseada = bs(search.content, 'html.parser')  # Parsing the HTML content of the response using BeautifulSoup"
      ],
      "metadata": {
        "colab": {
          "base_uri": "https://localhost:8080/"
        },
        "id": "jmu-9juXVNu2",
        "outputId": "b0799901-64e1-443e-b5a9-33d36de5bb0a"
      },
      "execution_count": 2,
      "outputs": [
        {
          "output_type": "stream",
          "name": "stdout",
          "text": [
            "Status Code: 200\n"
          ]
        }
      ]
    },
    {
      "cell_type": "code",
      "source": [
        "nombres = search_parseada.find_all(name='a', attrs={'class': 'title'})[1:]  # Finding all names\n",
        "\n",
        "dolares = search_parseada.find_all(name='div', attrs={'class': 'val'})[2:]  # Finding all values\n",
        "\n",
        "dolar_fecha = search_parseada.find(name='div', attrs={'class': 'tile update'}).text  # Finding the update time"
      ],
      "metadata": {
        "id": "WQpPWfknrF09"
      },
      "execution_count": 3,
      "outputs": []
    },
    {
      "cell_type": "markdown",
      "source": [
        "Create a list of titles by repeating each title in the 'nombres' list twice.\\\n",
        "This is done to ensure that there is one title for each buy/sell rate pair"
      ],
      "metadata": {
        "id": "PfGVY2Cf1v8P"
      }
    },
    {
      "cell_type": "code",
      "source": [
        "titulos = []\n",
        "\n",
        "for i in range(2*len(nombres)-1):\n",
        "  titulos.append(nombres[int(i/2)].contents[0])"
      ],
      "metadata": {
        "id": "4ypzXuFjrI2t"
      },
      "execution_count": 4,
      "outputs": []
    },
    {
      "cell_type": "markdown",
      "source": [
        "Print the titles and corresponding buy/sell rates for each currency"
      ],
      "metadata": {
        "id": "FbpRNkCu16y_"
      }
    },
    {
      "cell_type": "code",
      "source": [
        "for i in range(len(dolares)):\n",
        "  if i % 2 == 0:\n",
        "    print(titulos[i], '\\nCompra:', dolares[i].contents[0])\n",
        "  else:\n",
        "    print('Venta:', dolares[i].contents[0], '\\n')\n",
        "print('')\n",
        "print(dolar_fecha)"
      ],
      "metadata": {
        "colab": {
          "base_uri": "https://localhost:8080/"
        },
        "id": "pfoT-_kzrAhb",
        "outputId": "b5de00fe-5dc7-4b85-ec53-59e382240fb9"
      },
      "execution_count": 5,
      "outputs": [
        {
          "output_type": "stream",
          "name": "stdout",
          "text": [
            "Dólar blue \n",
            "Compra: $405.00\n",
            "Venta: $408.00 \n",
            "\n",
            "Dólar oficial promedio \n",
            "Compra: $215.44\n",
            "Venta: $222.71 \n",
            "\n",
            "Dólar Bolsa \n",
            "Compra: $397.77\n",
            "Venta: $398.61 \n",
            "\n",
            "Contado con liqui \n",
            "Compra: $409.94\n",
            "Venta: $411.73 \n",
            "\n",
            "Dólar cripto \n",
            "Compra: $395.00\n",
            "Venta: $402.00 \n",
            "\n",
            "Dólar Solidario \n",
            "Compra: $367.13\n",
            "\n",
            "Actualizado el 17/04/23 04:01 PM\n"
          ]
        }
      ]
    },
    {
      "cell_type": "code",
      "source": [
        "dolar_promedio = mean([float(dolares[0].contents[0][1:]), float(dolares[1].contents[0][1:])])\n",
        "print(f'Blue Promedio: ${dolar_promedio}')\n",
        "print(type(dolar_promedio)) "
      ],
      "metadata": {
        "colab": {
          "base_uri": "https://localhost:8080/"
        },
        "id": "sNymFRUFsveS",
        "outputId": "cf41aaee-9520-4d7b-f904-8f484de62471"
      },
      "execution_count": 6,
      "outputs": [
        {
          "output_type": "stream",
          "name": "stdout",
          "text": [
            "Blue Promedio: $406.5\n",
            "<class 'float'>\n"
          ]
        }
      ]
    },
    {
      "cell_type": "markdown",
      "source": [
        "Calculate the average buy/sell rate of the most popular currency and store it as a float. \\\n",
        "This ensures that the resulting value can be used in mathematical operations later on."
      ],
      "metadata": {
        "id": "9Kx-6Zre2YZf"
      }
    },
    {
      "cell_type": "markdown",
      "source": [
        "##Euro"
      ],
      "metadata": {
        "id": "mEXX9dr_p4MH"
      }
    },
    {
      "cell_type": "code",
      "source": [
        "url = 'https://dolarhoy.com/cotizacion-euro'  # The URL of the webpage to scrape\n",
        "search = requests.get(url, verify=True, headers={\"User-Agent\": 'Mozilla/5.0'})  # Making a GET request to the URL\n",
        "print(f'Status Code: {search.status_code}')  # Printing the status code of the request\n",
        "search_parseada = bs(search.content, 'html.parser')  # Parsing the HTML content of the response using BeautifulSoup"
      ],
      "metadata": {
        "colab": {
          "base_uri": "https://localhost:8080/"
        },
        "id": "zpiHQalfp3n-",
        "outputId": "e812b81c-03e3-48e7-f5c6-076f68b11013"
      },
      "execution_count": 7,
      "outputs": [
        {
          "output_type": "stream",
          "name": "stdout",
          "text": [
            "Status Code: 200\n"
          ]
        }
      ]
    },
    {
      "cell_type": "code",
      "source": [
        "euro_compra = search_parseada.find_all(name='div', attrs={'class': 'compra'})[1]  \n",
        "\n",
        "euro_venta = search_parseada.find_all(name='div', attrs={'class': 'venta'})[1] "
      ],
      "metadata": {
        "id": "55PfynvOqtwG"
      },
      "execution_count": 27,
      "outputs": []
    },
    {
      "cell_type": "code",
      "source": [
        "print('Euro')\n",
        "print(f'Compra: ${float(euro_compra.contents[0])}')\n",
        "print(f'Venta: ${float(euro_venta.contents[0])}')"
      ],
      "metadata": {
        "colab": {
          "base_uri": "https://localhost:8080/"
        },
        "id": "LBlWhnr0rNTp",
        "outputId": "fcd1faff-f659-459a-cde2-5048e77dc2e8"
      },
      "execution_count": 32,
      "outputs": [
        {
          "output_type": "stream",
          "name": "stdout",
          "text": [
            "Euro\n",
            "Compra: $214.5\n",
            "Venta: $222.5\n"
          ]
        }
      ]
    }
  ]
}