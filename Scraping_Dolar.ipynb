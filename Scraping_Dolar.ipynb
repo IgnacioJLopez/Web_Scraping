{
  "nbformat": 4,
  "nbformat_minor": 0,
  "metadata": {
    "colab": {
      "provenance": [],
      "authorship_tag": "ABX9TyPg1trB26CklJVlzC0tM6zM"
    },
    "kernelspec": {
      "name": "python3",
      "display_name": "Python 3"
    },
    "language_info": {
      "name": "python"
    }
  },
  "cells": [
    {
      "cell_type": "code",
      "execution_count": null,
      "metadata": {
        "id": "WmczLpsZU63I"
      },
      "outputs": [],
      "source": [
        "import requests\n",
        "from bs4 import BeautifulSoup as bs\n",
        "import pandas as pd\n",
        "from statistics import mean "
      ]
    },
    {
      "cell_type": "code",
      "source": [
        "url = 'https://dolarhoy.com/'\n",
        "search = requests.get(url, verify = True, headers = {\"User-Agent\":'Mozilla/5.0'}) # Request\n",
        "print(f'El status es: {search.status_code}') # Chequeo\n",
        "search_parseada = bs(search.content, 'html.parser') # html"
      ],
      "metadata": {
        "colab": {
          "base_uri": "https://localhost:8080/"
        },
        "id": "jmu-9juXVNu2",
        "outputId": "41c80624-d871-4005-827a-19dae43546c8"
      },
      "execution_count": null,
      "outputs": [
        {
          "output_type": "stream",
          "name": "stdout",
          "text": [
            "El status es: 200\n"
          ]
        }
      ]
    },
    {
      "cell_type": "code",
      "source": [
        "ubicacion = search_parseada.find(name = 'div', attrs = {'id' : 'sitio'}).text\n",
        "\n",
        "print('Dolar Blue: \\n')\n",
        "dolar_compra = ubicacion.partition('$')[2]\n",
        "print(f'Compra: {dolar_compra[:3]}')\n",
        "dolar_venta = dolar_compra.partition('$')[2]\n",
        "print(f'Venta: {dolar_venta[:3]}')\n",
        "dolar_promedio = mean([int(dolar_venta[:3]), int(dolar_compra[:3])])\n",
        "print(f'Promedio: {dolar_promedio}')\n",
        "\n",
        "print(dolar_venta[3:32])"
      ],
      "metadata": {
        "colab": {
          "base_uri": "https://localhost:8080/"
        },
        "id": "SRZ6yuKQC4jA",
        "outputId": "69e9f1cf-6796-45eb-9aa3-41f4fa058d32"
      },
      "execution_count": null,
      "outputs": [
        {
          "output_type": "stream",
          "name": "stdout",
          "text": [
            "Dolar Blue: \n",
            "\n",
            "Compra: 388\n",
            "Venta: 392\n",
            "Promedio: 390\n",
            "Actualizado el 05/04/23 05:31\n"
          ]
        }
      ]
    }
  ]
}