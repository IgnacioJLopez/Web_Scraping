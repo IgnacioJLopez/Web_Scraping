{
  "nbformat": 4,
  "nbformat_minor": 0,
  "metadata": {
    "colab": {
      "provenance": [],
      "authorship_tag": "ABX9TyMyQY1+zpeQu7MyRwluwwIj"
    },
    "kernelspec": {
      "name": "python3",
      "display_name": "Python 3"
    },
    "language_info": {
      "name": "python"
    }
  },
  "cells": [
    {
      "cell_type": "code",
      "execution_count": 40,
      "metadata": {
        "id": "WmczLpsZU63I"
      },
      "outputs": [],
      "source": [
        "import requests\n",
        "from bs4 import BeautifulSoup as bs\n",
        "import pandas as pd\n",
        "from statistics import mean "
      ]
    },
    {
      "cell_type": "code",
      "source": [
        "url = 'https://dolarhoy.com/'\n",
        "search = requests.get(url, verify = True, headers = {\"User-Agent\":'Mozilla/5.0'}) # Request\n",
        "print(f'El status es: {search.status_code}') # Chequeo\n",
        "search_parseada = bs(search.content, 'html.parser') # html"
      ],
      "metadata": {
        "colab": {
          "base_uri": "https://localhost:8080/"
        },
        "id": "jmu-9juXVNu2",
        "outputId": "d0d56355-9718-42af-b752-d385514c0760"
      },
      "execution_count": 41,
      "outputs": [
        {
          "output_type": "stream",
          "name": "stdout",
          "text": [
            "El status es: 200\n"
          ]
        }
      ]
    },
    {
      "cell_type": "code",
      "source": [
        "nombres = search_parseada.find_all(name = 'a', attrs = {'class' : 'title'})[1:]\n",
        "dolares = search_parseada.find_all(name = 'div', attrs = {'class' : 'val'})[2:]\n",
        "dolar_fecha = search_parseada.find(name = 'div', attrs = {'class' : 'tile update'}).text"
      ],
      "metadata": {
        "id": "WQpPWfknrF09"
      },
      "execution_count": 42,
      "outputs": []
    },
    {
      "cell_type": "code",
      "source": [
        "titulos = []\n",
        "\n",
        "for i in range(2*len(nombres)-1):\n",
        "  titulos.append(nombres[int(i/2)].contents[0])"
      ],
      "metadata": {
        "id": "4ypzXuFjrI2t"
      },
      "execution_count": 46,
      "outputs": []
    },
    {
      "cell_type": "code",
      "source": [
        "for i in range(len(dolares)):\n",
        "  if i % 2 == 0:\n",
        "    print(titulos[i], '\\nCompra:', dolares[i].contents[0])\n",
        "  else:\n",
        "    print('Venta:', dolares[i].contents[0], '\\n')\n",
        "print('')\n",
        "print(dolar_fecha)"
      ],
      "metadata": {
        "colab": {
          "base_uri": "https://localhost:8080/"
        },
        "id": "pfoT-_kzrAhb",
        "outputId": "21a55bf5-9ae9-4f9e-8c30-115d4512d852"
      },
      "execution_count": 44,
      "outputs": [
        {
          "output_type": "stream",
          "name": "stdout",
          "text": [
            "Dólar blue \n",
            "Compra: $388.00\n",
            "Venta: $392.00 \n",
            "\n",
            "Dólar oficial promedio \n",
            "Compra: $211.73\n",
            "Venta: $219.60 \n",
            "\n",
            "Dólar Bolsa \n",
            "Compra: $393.64\n",
            "Venta: $393.94 \n",
            "\n",
            "Contado con liqui \n",
            "Compra: $404.20\n",
            "Venta: $405.00 \n",
            "\n",
            "Dólar cripto \n",
            "Compra: $378.00\n",
            "Venta: $387.00 \n",
            "\n",
            "Dólar Solidario \n",
            "Compra: $360.52\n",
            "\n",
            "Actualizado el 05/04/23 05:31 PM\n"
          ]
        }
      ]
    },
    {
      "cell_type": "code",
      "source": [
        "dolar_promedio = mean([float(dolares[0].contents[0][1:]), float(dolares[1].contents[0][1:])])\n",
        "print(f'Blue Promedio: ${dolar_promedio}')\n",
        "print(type(dolar_promedio))"
      ],
      "metadata": {
        "colab": {
          "base_uri": "https://localhost:8080/"
        },
        "id": "sNymFRUFsveS",
        "outputId": "10d3ed59-9f7e-4354-8932-562c9ff5901a"
      },
      "execution_count": 45,
      "outputs": [
        {
          "output_type": "stream",
          "name": "stdout",
          "text": [
            "Blue Promedio: $390.0\n",
            "<class 'float'>\n"
          ]
        }
      ]
    }
  ]
}