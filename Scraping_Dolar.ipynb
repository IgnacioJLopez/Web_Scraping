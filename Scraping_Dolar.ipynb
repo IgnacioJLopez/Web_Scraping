{
  "nbformat": 4,
  "nbformat_minor": 0,
  "metadata": {
    "colab": {
      "provenance": [],
      "authorship_tag": "ABX9TyOhjqGgrcw7Yg6F0qrhqJQ0"
    },
    "kernelspec": {
      "name": "python3",
      "display_name": "Python 3"
    },
    "language_info": {
      "name": "python"
    }
  },
  "cells": [
    {
      "cell_type": "markdown",
      "source": [
        "#**Extracting Real-time Currency Exchange Rates with Python and Beautiful Soup**"
      ],
      "metadata": {
        "id": "ch_ORBbtvyqP"
      }
    },
    {
      "cell_type": "markdown",
      "source": [
        "This Python script uses web scraping techniques to extract real-time currency exchange rates from the Dolar Hoy website. The script makes an HTTP request to the website, parses the HTML content using Beautiful Soup, and extracts the relevant data using a combination of tag names and class attributes. The extracted data is then printed to the console, and the average sell rate of two popular currencies is calculated using the statistics module."
      ],
      "metadata": {
        "id": "Oi6uRRHgzuLF"
      }
    },
    {
      "cell_type": "code",
      "execution_count": 7,
      "metadata": {
        "id": "WmczLpsZU63I"
      },
      "outputs": [],
      "source": [
        "import requests  # Importing the requests library to make HTTP requests\n",
        "from bs4 import BeautifulSoup as bs  # Importing BeautifulSoup to parse HTML documents\n",
        "import pandas as pd  # Importing Pandas library to manipulate data\n",
        "from statistics import mean  # Importing mean function from statistics module"
      ]
    },
    {
      "cell_type": "code",
      "source": [
        "url = 'https://dolarhoy.com/'  # The URL of the webpage to scrape\n",
        "search = requests.get(url, verify=True, headers={\"User-Agent\": 'Mozilla/5.0'})  # Making a GET request to the URL\n",
        "print(f'Status Code: {search.status_code}')  # Printing the status code of the request\n",
        "search_parseada = bs(search.content, 'html.parser')  # Parsing the HTML content of the response using BeautifulSoup"
      ],
      "metadata": {
        "colab": {
          "base_uri": "https://localhost:8080/"
        },
        "id": "jmu-9juXVNu2",
        "outputId": "39551abb-2114-4491-b70b-d93bbc0021f4"
      },
      "execution_count": 8,
      "outputs": [
        {
          "output_type": "stream",
          "name": "stdout",
          "text": [
            "Status Code: 200\n"
          ]
        }
      ]
    },
    {
      "cell_type": "code",
      "source": [
        "nombres = search_parseada.find_all(name='a', attrs={'class': 'title'})[1:]  # Finding all names\n",
        "\n",
        "dolares = search_parseada.find_all(name='div', attrs={'class': 'val'})[2:]  # Finding all values\n",
        "\n",
        "dolar_fecha = search_parseada.find(name='div', attrs={'class': 'tile update'}).text  # Finding the update time"
      ],
      "metadata": {
        "id": "WQpPWfknrF09"
      },
      "execution_count": 9,
      "outputs": []
    },
    {
      "cell_type": "markdown",
      "source": [
        "Create a list of titles by repeating each title in the 'nombres' list twice.\\\n",
        "This is done to ensure that there is one title for each buy/sell rate pair"
      ],
      "metadata": {
        "id": "PfGVY2Cf1v8P"
      }
    },
    {
      "cell_type": "code",
      "source": [
        "titulos = []\n",
        "\n",
        "for i in range(2*len(nombres)-1):\n",
        "  titulos.append(nombres[int(i/2)].contents[0])"
      ],
      "metadata": {
        "id": "4ypzXuFjrI2t"
      },
      "execution_count": 10,
      "outputs": []
    },
    {
      "cell_type": "markdown",
      "source": [
        "Print the titles and corresponding buy/sell rates for each currency"
      ],
      "metadata": {
        "id": "FbpRNkCu16y_"
      }
    },
    {
      "cell_type": "code",
      "source": [
        "for i in range(len(dolares)):\n",
        "  if i % 2 == 0:\n",
        "    print(titulos[i], '\\nCompra:', dolares[i].contents[0])\n",
        "  else:\n",
        "    print('Venta:', dolares[i].contents[0], '\\n')\n",
        "print('')\n",
        "print(dolar_fecha)"
      ],
      "metadata": {
        "colab": {
          "base_uri": "https://localhost:8080/"
        },
        "id": "pfoT-_kzrAhb",
        "outputId": "600e1266-e7fa-4376-cf95-dc95d644dc1d"
      },
      "execution_count": 11,
      "outputs": [
        {
          "output_type": "stream",
          "name": "stdout",
          "text": [
            "Dólar blue \n",
            "Compra: $390.00\n",
            "Venta: $394.00 \n",
            "\n",
            "Dólar oficial promedio \n",
            "Compra: $213.30\n",
            "Venta: $220.68 \n",
            "\n",
            "Dólar Bolsa \n",
            "Compra: $385.56\n",
            "Venta: $387.59 \n",
            "\n",
            "Contado con liqui \n",
            "Compra: $395.73\n",
            "Venta: $399.58 \n",
            "\n",
            "Dólar cripto \n",
            "Compra: $385.00\n",
            "Venta: $390.00 \n",
            "\n",
            "Dólar Solidario \n",
            "Compra: $364.24\n",
            "\n",
            "Actualizado el 11/04/23 04:34 PM\n"
          ]
        }
      ]
    },
    {
      "cell_type": "code",
      "source": [
        "dolar_promedio = mean([float(dolares[0].contents[0][1:]), float(dolares[1].contents[0][1:])])\n",
        "print(f'Blue Promedio: ${dolar_promedio}')\n",
        "print(type(dolar_promedio)) "
      ],
      "metadata": {
        "colab": {
          "base_uri": "https://localhost:8080/"
        },
        "id": "sNymFRUFsveS",
        "outputId": "c9ffd75c-f142-4f4f-a1aa-b519c637e60c"
      },
      "execution_count": 12,
      "outputs": [
        {
          "output_type": "stream",
          "name": "stdout",
          "text": [
            "Blue Promedio: $392.0\n",
            "<class 'float'>\n"
          ]
        }
      ]
    },
    {
      "cell_type": "markdown",
      "source": [
        "Calculate the average buy/sell rate of the most popular currency and store it as a float. \\\n",
        "This ensures that the resulting value can be used in mathematical operations later on."
      ],
      "metadata": {
        "id": "9Kx-6Zre2YZf"
      }
    }
  ]
}